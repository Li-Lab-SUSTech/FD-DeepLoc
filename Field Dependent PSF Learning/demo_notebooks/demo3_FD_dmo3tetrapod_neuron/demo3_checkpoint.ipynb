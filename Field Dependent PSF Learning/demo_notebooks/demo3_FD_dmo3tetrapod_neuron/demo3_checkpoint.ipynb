{
 "cells": [
  {
   "cell_type": "markdown",
   "id": "ebc5f65f",
   "metadata": {},
   "source": [
    "# FD-DeepLoc training from a chekpoint\n",
    "Load the saved `.pkl` file and run this script with parameters explained in the `demo1_train.ipynb`"
   ]
  },
  {
   "cell_type": "code",
   "execution_count": 1,
   "id": "85a99788",
   "metadata": {},
   "outputs": [],
   "source": [
    "import datetime\n",
    "import sys\n",
    "sys.path.append('../..')\n",
    "\n",
    "import scipy.io\n",
    "import seaborn as sns\n",
    "\n",
    "sns.set_style(\"white\")\n",
    "\n",
    "from fd_deeploc_core import *\n",
    "from local_utils import *\n",
    "\n",
    "sys.setrecursionlimit(10000)\n",
    "setup_seed(20)\n"
   ]
  },
  {
   "cell_type": "code",
   "execution_count": 2,
   "id": "e75714df",
   "metadata": {
    "scrolled": true
   },
   "outputs": [
    {
     "name": "stdout",
     "output_type": "stream",
     "text": [
      "start training!\n",
      "train from checkpoint! the last print is:\n",
      "JoR: 3.157 || Eff_3d: 72.077 || Jaccard: 0.940 || Factor: 771.283 || RMSE_lat: 29.769 || RMSE_ax: 49.501 || Cost: 8.285 || Recall: 0.944 || Precision: 0.995 || BatchNr.: 30000\n",
      "processing area:169/169, input field_xy:[1516 1607 1516 1607], use_coordconv:True, retain locs in area:[1536, 1607, 1536, 1607], aber_map size:(1608, 1608, 23)\n",
      "\n",
      "evaluation on 30 images, contain ground truth: 22463, preds:21300\n",
      "FOV: x=[0, 176880] y=[0, 176880]\n",
      "after FOV and border segmentation,truth: 22434 ,preds: 21295\n",
      "JoR: 3.197 || Eff_3d: 73.404 || Jaccard: 0.941 || Factor: 767.779 || RMSE_lat: 29.449 || RMSE_ax: 44.823 || Cost: 7.778 || Recall: 0.945 || Precision: 0.996 || BatchNr.: 30500 || Time Upd.: 659.9 ms \n",
      "saving this model, eff_3d, rmse_lat, rmse_ax and BatchNr are : 73.404 || 29.449 || 44.823 || 30500\n",
      "\n",
      "\n",
      "training finished!\n"
     ]
    }
   ],
   "source": [
    "if __name__ == '__main__':\n",
    "    with open(\"../../demo_datasets/demo3_FD_dmo3tetrapod_neuron/demo3_FD-DeepLoc.pkl\", 'rb') as f:\n",
    "        model = pickle.load(f)\n",
    "\n",
    "    # set the training parameters and retrain\n",
    "    model.fit(batch_size=10, max_iters=30500, print_freq=500, print_output=True)"
   ]
  },
  {
   "cell_type": "code",
   "execution_count": null,
   "id": "2c06cfcd",
   "metadata": {},
   "outputs": [],
   "source": []
  }
 ],
 "metadata": {
  "kernelspec": {
   "display_name": "Python 3 (ipykernel)",
   "language": "python",
   "name": "python3"
  },
  "language_info": {
   "codemirror_mode": {
    "name": "ipython",
    "version": 3
   },
   "file_extension": ".py",
   "mimetype": "text/x-python",
   "name": "python",
   "nbconvert_exporter": "python",
   "pygments_lexer": "ipython3",
   "version": "3.8.13"
  }
 },
 "nbformat": 4,
 "nbformat_minor": 5
}
