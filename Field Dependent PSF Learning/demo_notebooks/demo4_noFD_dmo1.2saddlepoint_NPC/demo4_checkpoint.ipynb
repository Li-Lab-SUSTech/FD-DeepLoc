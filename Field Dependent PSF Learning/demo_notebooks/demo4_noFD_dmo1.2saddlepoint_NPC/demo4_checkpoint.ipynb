{
 "cells": [
  {
   "cell_type": "markdown",
   "id": "ebc5f65f",
   "metadata": {},
   "source": [
    "# FD-DeepLoc training from a chekpoint\n",
    "Load the saved `.pkl` file and run this script with parameters explained in the `demo1_train.ipynb`"
   ]
  },
  {
   "cell_type": "code",
   "execution_count": 1,
   "id": "85a99788",
   "metadata": {},
   "outputs": [],
   "source": [
    "import datetime\n",
    "import sys\n",
    "sys.path.append('../..')\n",
    "\n",
    "import scipy.io\n",
    "import seaborn as sns\n",
    "\n",
    "sns.set_style(\"white\")\n",
    "\n",
    "from fd_deeploc_core import *\n",
    "from local_utils import *\n",
    "\n",
    "sys.setrecursionlimit(10000)\n",
    "setup_seed(20)\n"
   ]
  },
  {
   "cell_type": "code",
   "execution_count": null,
   "id": "e75714df",
   "metadata": {
    "scrolled": true
   },
   "outputs": [
    {
     "name": "stdout",
     "output_type": "stream",
     "text": [
      "start training!\n",
      "train from checkpoint! the last print is:\n",
      "JoR: 3.621 || Eff_3d: 75.581 || Jaccard: 0.953 || Factor: 14.725 || RMSE_lat: 26.330 || RMSE_ax: 43.211 || Cost: -16.686 || Recall: 0.955 || Precision: 0.998 || BatchNr.: 30000\n",
      "processing area:1/1, input field_xy:[  0 127   0 127], use_coordconv:False, retain locs in area:[0, 127, 0, 127], aber_map size:(128, 128, 23)\n",
      "\n",
      "evaluation on 1000 images, contain ground truth: 15109, preds:14371\n",
      "FOV: x=[0, 14080] y=[0, 14080]\n",
      "after FOV and border segmentation,truth: 14888 ,preds: 14241\n",
      "JoR: 3.589 || Eff_3d: 75.231 || Jaccard: 0.951 || Factor: 14.810 || RMSE_lat: 26.502 || RMSE_ax: 44.100 || Cost: -16.341 || Recall: 0.954 || Precision: 0.997 || BatchNr.: 30500 || Time Upd.: 650.0 ms \n",
      "saving this model, eff_3d, rmse_lat, rmse_ax and BatchNr are : 75.231 || 26.502 || 44.100 || 30500\n",
      "\n",
      "\n"
     ]
    }
   ],
   "source": [
    "if __name__ == '__main__':\n",
    "    with open(\"../../demo_datasets/demo4_noFD_dmo1.2saddlepoint_NPC/demo4_FD-DeepLoc.pkl\", 'rb') as f:\n",
    "        model = pickle.load(f)\n",
    "\n",
    "    # set the training parameters and retrain\n",
    "    model.fit(batch_size=10, max_iters=32000, print_freq=500, print_output=True)"
   ]
  }
 ],
 "metadata": {
  "kernelspec": {
   "display_name": "Python 3 (ipykernel)",
   "language": "python",
   "name": "python3"
  },
  "language_info": {
   "codemirror_mode": {
    "name": "ipython",
    "version": 3
   },
   "file_extension": ".py",
   "mimetype": "text/x-python",
   "name": "python",
   "nbconvert_exporter": "python",
   "pygments_lexer": "ipython3",
   "version": "3.8.13"
  }
 },
 "nbformat": 4,
 "nbformat_minor": 5
}
