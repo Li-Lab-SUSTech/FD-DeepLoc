{
 "cells": [
  {
   "cell_type": "markdown",
   "id": "ebc5f65f",
   "metadata": {},
   "source": [
    "# FD-DeepLoc training from a chekpoint\n",
    "Load the saved `.pkl` file and run this script with parameters explained in the `demo1_train.ipynb`"
   ]
  },
  {
   "cell_type": "code",
   "execution_count": 1,
   "id": "85a99788",
   "metadata": {},
   "outputs": [],
   "source": [
    "import datetime\n",
    "import sys\n",
    "sys.path.append('../..')\n",
    "\n",
    "import scipy.io\n",
    "import seaborn as sns\n",
    "\n",
    "sns.set_style(\"white\")\n",
    "\n",
    "from fd_deeploc_core import *\n",
    "from local_utils import *\n",
    "\n",
    "sys.setrecursionlimit(10000)\n",
    "setup_seed(20)\n"
   ]
  },
  {
   "cell_type": "code",
   "execution_count": 2,
   "id": "e75714df",
   "metadata": {
    "scrolled": false
   },
   "outputs": [
    {
     "name": "stdout",
     "output_type": "stream",
     "text": [
      "start training!\n",
      "train from checkpoint! the last print is:\n",
      "JoR: 3.269 || Eff_3d: 72.649 || Jaccard: 0.947 || Factor: 15.420 || RMSE_lat: 28.985 || RMSE_ax: 49.378 || Cost: -17.186 || Recall: 0.958 || Precision: 0.988 || BatchNr.: 30000\n",
      "processing area:1/1, input field_xy:[  0 127   0 127], use_coordconv:False, retain locs in area:[0, 127, 0, 127], aber_map size:(128, 128, 23)\n",
      "\n",
      "evaluation on 1000 images, contain ground truth: 15109, preds:14632\n",
      "FOV: x=[0, 14080] y=[0, 14080]\n",
      "after FOV and border segmentation,truth: 14888 ,preds: 14462\n",
      "JoR: 3.338 || Eff_3d: 73.284 || Jaccard: 0.950 || Factor: 15.443 || RMSE_lat: 28.452 || RMSE_ax: 48.033 || Cost: -16.820 || Recall: 0.960 || Precision: 0.989 || BatchNr.: 30500 || Time Upd.: 619.9 ms \n",
      "saving this model, eff_3d, rmse_lat, rmse_ax and BatchNr are : 73.284 || 28.452 || 48.033 || 30500\n",
      "\n",
      "\n",
      "training finished!\n"
     ]
    }
   ],
   "source": [
    "if __name__ == '__main__':\n",
    "    with open(\"../../demo_datasets/demo4_noFD_dmo1.2saddlepoint_NPC/demo4_FD-DeepLoc.pkl\", 'rb') as f:\n",
    "        model = pickle.load(f)\n",
    "\n",
    "    # set the training parameters and retrain\n",
    "    model.fit(batch_size=10, max_iters=30500, print_freq=500, print_output=True)"
   ]
  },
  {
   "cell_type": "code",
   "execution_count": null,
   "id": "caba0415",
   "metadata": {},
   "outputs": [],
   "source": []
  }
 ],
 "metadata": {
  "kernelspec": {
   "display_name": "Python 3 (ipykernel)",
   "language": "python",
   "name": "python3"
  },
  "language_info": {
   "codemirror_mode": {
    "name": "ipython",
    "version": 3
   },
   "file_extension": ".py",
   "mimetype": "text/x-python",
   "name": "python",
   "nbconvert_exporter": "python",
   "pygments_lexer": "ipython3",
   "version": "3.8.13"
  }
 },
 "nbformat": 4,
 "nbformat_minor": 5
}
