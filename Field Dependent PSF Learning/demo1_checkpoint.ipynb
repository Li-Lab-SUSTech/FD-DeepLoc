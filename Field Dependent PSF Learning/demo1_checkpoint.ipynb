{
 "cells": [
  {
   "cell_type": "markdown",
   "id": "ebc5f65f",
   "metadata": {},
   "source": [
    "# FD-DeepLoc training from a chekpoint\n",
    "Load the saved `.pkl` file and run this script with parameters explained in the `demo1_train.ipynb`"
   ]
  },
  {
   "cell_type": "code",
   "execution_count": 1,
   "id": "85a99788",
   "metadata": {},
   "outputs": [],
   "source": [
    "import datetime\n",
    "import sys\n",
    "import scipy.io\n",
    "import seaborn as sns\n",
    "\n",
    "sns.set_style(\"white\")\n",
    "\n",
    "from fd_deeploc_core import *\n",
    "from local_utils import *\n",
    "\n",
    "sys.setrecursionlimit(10000)\n",
    "setup_seed(20)\n"
   ]
  },
  {
   "cell_type": "code",
   "execution_count": 2,
   "id": "e75714df",
   "metadata": {
    "scrolled": true
   },
   "outputs": [
    {
     "name": "stdout",
     "output_type": "stream",
     "text": [
      "start training!\n",
      "train from checkpoint! the last print is:\n",
      "JoR: 2.930 || Eff_3d: 67.964 || Jaccard: 0.908 || Factor: 767.867 || RMSE_lat: 30.983 || RMSE_ax: 60.770 || Cost: 7.896 || Recall: 0.917 || Precision: 0.990 || BatchNr.: 30000\n",
      "processing area:169/169, input field_xy:[1516 1607 1516 1607], use_coordconv:True, retain locs in area:[1536, 1607, 1536, 1607], aber_map size:(1608, 1608, 23)\n",
      "\n",
      "evaluation on 30 images, contain ground truth: 22584, preds:20701\n",
      "FOV: x=[0, 176880] y=[0, 176880]\n",
      "after FOV and border segmentation,truth: 22553 ,preds: 20701\n",
      "JoR: 2.984 || Eff_3d: 69.396 || Jaccard: 0.903 || Factor: 757.563 || RMSE_lat: 30.278 || RMSE_ax: 55.596 || Cost: 7.473 || Recall: 0.910 || Precision: 0.992 || BatchNr.: 30500 || Time Upd.: 890.2 ms \n",
      "saving this model, eff_3d, rmse_lat, rmse_ax and BatchNr are : 69.396 || 30.278 || 55.596 || 30500\n",
      "\n",
      "\n",
      "processing area:169/169, input field_xy:[1516 1607 1516 1607], use_coordconv:True, retain locs in area:[1536, 1607, 1536, 1607], aber_map size:(1608, 1608, 23)\n",
      "\n",
      "evaluation on 30 images, contain ground truth: 22584, preds:20881\n",
      "FOV: x=[0, 176880] y=[0, 176880]\n",
      "after FOV and border segmentation,truth: 22553 ,preds: 20881\n",
      "JoR: 2.879 || Eff_3d: 67.057 || Jaccard: 0.909 || Factor: 772.897 || RMSE_lat: 31.578 || RMSE_ax: 63.493 || Cost: 8.429 || Recall: 0.917 || Precision: 0.990 || BatchNr.: 31000 || Time Upd.: 569.6 ms \n",
      "saving this model, eff_3d, rmse_lat, rmse_ax and BatchNr are : 67.057 || 31.578 || 63.493 || 31000\n",
      "\n",
      "\n",
      "processing area:169/169, input field_xy:[1516 1607 1516 1607], use_coordconv:True, retain locs in area:[1536, 1607, 1536, 1607], aber_map size:(1608, 1608, 23)\n",
      "\n",
      "evaluation on 30 images, contain ground truth: 22584, preds:20517\n",
      "FOV: x=[0, 176880] y=[0, 176880]\n",
      "after FOV and border segmentation,truth: 22553 ,preds: 20517\n",
      "JoR: 2.998 || Eff_3d: 68.408 || Jaccard: 0.894 || Factor: 747.571 || RMSE_lat: 29.822 || RMSE_ax: 59.403 || Cost: 7.500 || Recall: 0.901 || Precision: 0.991 || BatchNr.: 31500 || Time Upd.: 571.3 ms \n",
      "saving this model, eff_3d, rmse_lat, rmse_ax and BatchNr are : 68.408 || 29.822 || 59.403 || 31500\n",
      "\n",
      "\n",
      "processing area:169/169, input field_xy:[1516 1607 1516 1607], use_coordconv:True, retain locs in area:[1536, 1607, 1536, 1607], aber_map size:(1608, 1608, 23)\n",
      "\n",
      "evaluation on 30 images, contain ground truth: 22584, preds:20640\n",
      "FOV: x=[0, 176880] y=[0, 176880]\n",
      "after FOV and border segmentation,truth: 22553 ,preds: 20640\n",
      "JoR: 3.057 || Eff_3d: 68.295 || Jaccard: 0.904 || Factor: 753.842 || RMSE_lat: 29.568 || RMSE_ax: 61.713 || Cost: 8.031 || Recall: 0.909 || Precision: 0.994 || BatchNr.: 32000 || Time Upd.: 571.9 ms \n",
      "saving this model, eff_3d, rmse_lat, rmse_ax and BatchNr are : 68.295 || 29.568 || 61.713 || 32000\n",
      "\n",
      "\n",
      "training finished!\n"
     ]
    }
   ],
   "source": [
    "if __name__ == '__main__':\n",
    "    with open(\"./example_data/Li_Lab_DMO_Tetrapod6um_mito_TOM20/example_FD-DeepLoc.pkl\", 'rb') as f:\n",
    "        model = pickle.load(f)\n",
    "\n",
    "    # set the training parameters and retrain\n",
    "    model.fit(batch_size=10, max_iters=32000, print_freq=500, print_output=True)"
   ]
  }
 ],
 "metadata": {
  "kernelspec": {
   "display_name": "Python 3 (ipykernel)",
   "language": "python",
   "name": "python3"
  },
  "language_info": {
   "codemirror_mode": {
    "name": "ipython",
    "version": 3
   },
   "file_extension": ".py",
   "mimetype": "text/x-python",
   "name": "python",
   "nbconvert_exporter": "python",
   "pygments_lexer": "ipython3",
   "version": "3.8.11"
  }
 },
 "nbformat": 4,
 "nbformat_minor": 5
}
