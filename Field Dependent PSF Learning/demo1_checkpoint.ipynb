{
 "cells": [
  {
   "cell_type": "markdown",
   "id": "ebc5f65f",
   "metadata": {},
   "source": [
    "# FD-DeepLoc training from a chekpoint\n",
    "Load the saved `.pkl` file and run this script with parameters explained in the `demo1_train.ipynb`"
   ]
  },
  {
   "cell_type": "code",
   "execution_count": 1,
   "id": "85a99788",
   "metadata": {},
   "outputs": [],
   "source": [
    "import datetime\n",
    "import sys\n",
    "import scipy.io\n",
    "import seaborn as sns\n",
    "\n",
    "sns.set_style(\"white\")\n",
    "\n",
    "from fd_deeploc_core import *\n",
    "from local_utils import *\n",
    "\n",
    "sys.setrecursionlimit(10000)\n",
    "setup_seed(20)\n"
   ]
  },
  {
   "cell_type": "code",
   "execution_count": 2,
   "id": "e75714df",
   "metadata": {
    "scrolled": true
   },
   "outputs": [
    {
     "name": "stdout",
     "output_type": "stream",
     "text": [
      "start training!\n",
      "train from checkpoint! the last print is:\n",
      "JoR: 2.412 || Eff_3d: 61.386 || Jaccard: 0.870 || Factor: 913.706 || RMSE_lat: 36.049 || RMSE_ax: 73.288 || Cost: 15.651 || Recall: 0.887 || Precision: 0.978 || BatchNr.: 30000\n",
      "processing area:169/169, input field_xy:[1516 1607 1516 1607], use_coordconv:True, retain locs in area:[1536, 1607, 1536, 1607], aber_map size:(1608, 1608, 23)\n",
      "\n",
      "evaluation on 30 images, contain ground truth: 22760, preds:20566\n",
      "FOV: x=[0, 176880] y=[0, 176880]\n",
      "after FOV and border segmentation,truth: 22723 ,preds: 20564\n",
      "JoR: 2.525 || Eff_3d: 65.304 || Jaccard: 0.873 || Factor: 903.920 || RMSE_lat: 34.580 || RMSE_ax: 59.961 || Cost: 15.210 || Recall: 0.888 || Precision: 0.981 || BatchNr.: 30500 || Time Upd.: 769.9 ms \n",
      "saving this model, eff_3d, rmse_lat, rmse_ax and BatchNr are : 65.304 || 34.580 || 59.961 || 30500\n",
      "\n",
      "\n",
      "processing area:169/169, input field_xy:[1516 1607 1516 1607], use_coordconv:True, retain locs in area:[1536, 1607, 1536, 1607], aber_map size:(1608, 1608, 23)\n",
      "\n",
      "evaluation on 30 images, contain ground truth: 22760, preds:20427\n",
      "FOV: x=[0, 176880] y=[0, 176880]\n",
      "after FOV and border segmentation,truth: 22723 ,preds: 20425\n",
      "JoR: 2.504 || Eff_3d: 63.852 || Jaccard: 0.870 || Factor: 907.268 || RMSE_lat: 34.751 || RMSE_ax: 65.445 || Cost: 15.861 || Recall: 0.884 || Precision: 0.983 || BatchNr.: 31000 || Time Upd.: 729.1 ms \n",
      "saving this model, eff_3d, rmse_lat, rmse_ax and BatchNr are : 63.852 || 34.751 || 65.445 || 31000\n",
      "\n",
      "\n",
      "processing area:169/169, input field_xy:[1516 1607 1516 1607], use_coordconv:True, retain locs in area:[1536, 1607, 1536, 1607], aber_map size:(1608, 1608, 23)\n",
      "\n",
      "evaluation on 30 images, contain ground truth: 22760, preds:20464\n",
      "FOV: x=[0, 176880] y=[0, 176880]\n",
      "after FOV and border segmentation,truth: 22723 ,preds: 20462\n",
      "JoR: 2.515 || Eff_3d: 65.546 || Jaccard: 0.876 || Factor: 878.864 || RMSE_lat: 34.818 || RMSE_ax: 58.855 || Cost: 14.841 || Recall: 0.887 || Precision: 0.985 || BatchNr.: 31500 || Time Upd.: 762.4 ms \n",
      "saving this model, eff_3d, rmse_lat, rmse_ax and BatchNr are : 65.546 || 34.818 || 58.855 || 31500\n",
      "\n",
      "\n",
      "processing area:169/169, input field_xy:[1516 1607 1516 1607], use_coordconv:True, retain locs in area:[1536, 1607, 1536, 1607], aber_map size:(1608, 1608, 23)\n",
      "\n",
      "evaluation on 30 images, contain ground truth: 22760, preds:20655\n",
      "FOV: x=[0, 176880] y=[0, 176880]\n",
      "after FOV and border segmentation,truth: 22723 ,preds: 20653\n",
      "JoR: 2.517 || Eff_3d: 65.852 || Jaccard: 0.877 || Factor: 902.808 || RMSE_lat: 34.850 || RMSE_ax: 57.700 || Cost: 15.473 || Recall: 0.892 || Precision: 0.982 || BatchNr.: 32000 || Time Upd.: 751.1 ms \n",
      "saving this model, eff_3d, rmse_lat, rmse_ax and BatchNr are : 65.852 || 34.850 || 57.700 || 32000\n",
      "\n",
      "\n",
      "training finished!\n"
     ]
    }
   ],
   "source": [
    "if __name__ == '__main__':\n",
    "    with open(\"./example_data/Li_Lab_DMO_Tetrapod6um_mito_TOM20/example_FD-DeepLoc.pkl\", 'rb') as f:\n",
    "        model = pickle.load(f)\n",
    "\n",
    "    # set the training parameters and retrain\n",
    "    model.fit(batch_size=10, max_iters=32000, print_freq=500, print_output=True)"
   ]
  }
 ],
 "metadata": {
  "kernelspec": {
   "display_name": "Python 3 (ipykernel)",
   "language": "python",
   "name": "python3"
  },
  "language_info": {
   "codemirror_mode": {
    "name": "ipython",
    "version": 3
   },
   "file_extension": ".py",
   "mimetype": "text/x-python",
   "name": "python",
   "nbconvert_exporter": "python",
   "pygments_lexer": "ipython3",
   "version": "3.8.11"
  }
 },
 "nbformat": 4,
 "nbformat_minor": 5
}
